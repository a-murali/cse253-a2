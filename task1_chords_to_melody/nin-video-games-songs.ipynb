{
 "cells": [
  {
   "cell_type": "code",
   "execution_count": 1,
   "id": "abc4fb33",
   "metadata": {
    "_cell_guid": "b1076dfc-b9ad-4769-8c92-a6c4dae69d19",
    "_uuid": "8f2839f25d086af736a60e9eeb907d3b93b6e0e5",
    "execution": {
     "iopub.execute_input": "2025-05-29T21:37:19.162629Z",
     "iopub.status.busy": "2025-05-29T21:37:19.162328Z",
     "iopub.status.idle": "2025-05-29T21:37:25.342712Z",
     "shell.execute_reply": "2025-05-29T21:37:25.341890Z"
    },
    "papermill": {
     "duration": 6.18524,
     "end_time": "2025-05-29T21:37:25.344006",
     "exception": false,
     "start_time": "2025-05-29T21:37:19.158766",
     "status": "completed"
    },
    "tags": []
   },
   "outputs": [
    {
     "name": "stdout",
     "output_type": "stream",
     "text": [
      "Total number of MIDI files: 3896\n"
     ]
    }
   ],
   "source": [
    "import os\n",
    "\n",
    "midi_count = 0\n",
    "\n",
    "for dirname, _, filenames in os.walk('/kaggle/input'):\n",
    "    for filename in filenames:\n",
    "        if filename.lower().endswith('.mid'):\n",
    "            midi_count += 1\n",
    "\n",
    "print(f\"Total number of MIDI files: {midi_count}\")\n"
   ]
  },
  {
   "cell_type": "code",
   "execution_count": 2,
   "id": "8f14f637",
   "metadata": {
    "execution": {
     "iopub.execute_input": "2025-05-29T21:37:25.350309Z",
     "iopub.status.busy": "2025-05-29T21:37:25.349753Z",
     "iopub.status.idle": "2025-05-29T21:38:52.318135Z",
     "shell.execute_reply": "2025-05-29T21:38:52.317385Z"
    },
    "papermill": {
     "duration": 86.972635,
     "end_time": "2025-05-29T21:38:52.319580",
     "exception": false,
     "start_time": "2025-05-29T21:37:25.346945",
     "status": "completed"
    },
    "tags": []
   },
   "outputs": [
    {
     "name": "stdout",
     "output_type": "stream",
     "text": [
      "\u001b[2K     \u001b[90m━━━━━━━━━━━━━━━━━━━━━━━━━━━━━━━━━━━━━━━━\u001b[0m \u001b[32m5.6/5.6 MB\u001b[0m \u001b[31m28.5 MB/s\u001b[0m eta \u001b[36m0:00:00\u001b[0m\r\n",
      "\u001b[?25h  Preparing metadata (setup.py) ... \u001b[?25l\u001b[?25hdone\r\n",
      "\u001b[2K   \u001b[90m━━━━━━━━━━━━━━━━━━━━━━━━━━━━━━━━━━━━━━━━\u001b[0m \u001b[32m363.4/363.4 MB\u001b[0m \u001b[31m4.5 MB/s\u001b[0m eta \u001b[36m0:00:00\u001b[0m\r\n",
      "\u001b[2K   \u001b[90m━━━━━━━━━━━━━━━━━━━━━━━━━━━━━━━━━━━━━━━━\u001b[0m \u001b[32m664.8/664.8 MB\u001b[0m \u001b[31m2.5 MB/s\u001b[0m eta \u001b[36m0:00:00\u001b[0m\r\n",
      "\u001b[2K   \u001b[90m━━━━━━━━━━━━━━━━━━━━━━━━━━━━━━━━━━━━━━━━\u001b[0m \u001b[32m211.5/211.5 MB\u001b[0m \u001b[31m7.7 MB/s\u001b[0m eta \u001b[36m0:00:00\u001b[0m\r\n",
      "\u001b[2K   \u001b[90m━━━━━━━━━━━━━━━━━━━━━━━━━━━━━━━━━━━━━━━━\u001b[0m \u001b[32m56.3/56.3 MB\u001b[0m \u001b[31m27.2 MB/s\u001b[0m eta \u001b[36m0:00:00\u001b[0m\r\n",
      "\u001b[2K   \u001b[90m━━━━━━━━━━━━━━━━━━━━━━━━━━━━━━━━━━━━━━━━\u001b[0m \u001b[32m127.9/127.9 MB\u001b[0m \u001b[31m6.6 MB/s\u001b[0m eta \u001b[36m0:00:00\u001b[0m\r\n",
      "\u001b[2K   \u001b[90m━━━━━━━━━━━━━━━━━━━━━━━━━━━━━━━━━━━━━━━━\u001b[0m \u001b[32m207.5/207.5 MB\u001b[0m \u001b[31m8.0 MB/s\u001b[0m eta \u001b[36m0:00:00\u001b[0m\r\n",
      "\u001b[2K   \u001b[90m━━━━━━━━━━━━━━━━━━━━━━━━━━━━━━━━━━━━━━━━\u001b[0m \u001b[32m21.1/21.1 MB\u001b[0m \u001b[31m67.3 MB/s\u001b[0m eta \u001b[36m0:00:00\u001b[0m\r\n",
      "\u001b[2K   \u001b[90m━━━━━━━━━━━━━━━━━━━━━━━━━━━━━━━━━━━━━━━━\u001b[0m \u001b[32m54.6/54.6 kB\u001b[0m \u001b[31m3.2 MB/s\u001b[0m eta \u001b[36m0:00:00\u001b[0m\r\n",
      "\u001b[?25h  Building wheel for pretty_midi (setup.py) ... \u001b[?25l\u001b[?25hdone\r\n"
     ]
    }
   ],
   "source": [
    "# 📦 1. Install dependencies\n",
    "!pip install music21 torch pretty_midi tqdm --quiet\n"
   ]
  },
  {
   "cell_type": "code",
   "execution_count": 3,
   "id": "fb84ce2f",
   "metadata": {
    "execution": {
     "iopub.execute_input": "2025-05-29T21:38:52.378048Z",
     "iopub.status.busy": "2025-05-29T21:38:52.377782Z",
     "iopub.status.idle": "2025-05-29T21:38:57.127867Z",
     "shell.execute_reply": "2025-05-29T21:38:57.126935Z"
    },
    "papermill": {
     "duration": 4.780605,
     "end_time": "2025-05-29T21:38:57.129413",
     "exception": false,
     "start_time": "2025-05-29T21:38:52.348808",
     "status": "completed"
    },
    "tags": []
   },
   "outputs": [],
   "source": [
    "# 📚 2. Import libraries\n",
    "import os\n",
    "import music21\n",
    "import torch\n",
    "import torch.nn as nn\n",
    "import torch.optim as optim\n",
    "import numpy as np\n",
    "import pretty_midi\n",
    "import pickle\n",
    "from torch.utils.data import Dataset, DataLoader\n",
    "from pathlib import Path\n",
    "import random\n",
    "from tqdm import tqdm\n"
   ]
  },
  {
   "cell_type": "code",
   "execution_count": 4,
   "id": "72c159ca",
   "metadata": {
    "execution": {
     "iopub.execute_input": "2025-05-29T21:38:57.187131Z",
     "iopub.status.busy": "2025-05-29T21:38:57.186817Z",
     "iopub.status.idle": "2025-05-29T21:48:39.513164Z",
     "shell.execute_reply": "2025-05-29T21:48:39.512209Z"
    },
    "papermill": {
     "duration": 582.35633,
     "end_time": "2025-05-29T21:48:39.514443",
     "exception": false,
     "start_time": "2025-05-29T21:38:57.158113",
     "status": "completed"
    },
    "tags": []
   },
   "outputs": [
    {
     "name": "stderr",
     "output_type": "stream",
     "text": [
      "Processing MIDI files: 100%|██████████| 500/500 [09:41<00:00,  1.16s/it]"
     ]
    },
    {
     "name": "stdout",
     "output_type": "stream",
     "text": [
      "✅ Saved 432 Nintendo MIDI sequences.\n"
     ]
    },
    {
     "name": "stderr",
     "output_type": "stream",
     "text": [
      "\n"
     ]
    }
   ],
   "source": [
    "# 🔍 3. Recursively preprocess a subset of Nintendo MIDI files\n",
    "midi_dir = Path(\"/kaggle/input/nintendo-midis/Nintendo\")\n",
    "chord_vocab, melody_vocab = {}, {}\n",
    "chord_seqs, melody_seqs = [], []\n",
    "\n",
    "max_len = 64  # Increased length for longer melodies\n",
    "max_files = 500  # Limit to avoid timeout\n",
    "midi_files = list(midi_dir.rglob(\"*.mid\"))\n",
    "random.shuffle(midi_files)\n",
    "\n",
    "\n",
    "def note_to_int(note):\n",
    "    return int(note.pitch.midi)\n",
    "\n",
    "def chord_to_label(chord):\n",
    "    root = chord.root().name\n",
    "    quality = chord.quality\n",
    "    return f\"{root}_{quality}\"\n",
    "\n",
    "for file in tqdm(midi_files[:max_files], desc=\"Processing MIDI files\"):\n",
    "    try:\n",
    "        score = music21.converter.parse(file)\n",
    "        if isinstance(score, music21.stream.Opus):\n",
    "            if len(score.scores) == 0:\n",
    "                continue\n",
    "            score = score.scores[0]\n",
    "\n",
    "        chords = score.chordify().flatten().getElementsByClass('Chord')\n",
    "        melody = score.parts[0].flatten().getElementsByClass('Note')\n",
    "\n",
    "        chord_seq = []\n",
    "        for c in chords[:max_len]:\n",
    "            label = chord_to_label(c)\n",
    "            if label not in chord_vocab:\n",
    "                chord_vocab[label] = len(chord_vocab)\n",
    "            chord_seq.append(chord_vocab[label])\n",
    "\n",
    "        melody_seq = []\n",
    "        for n in melody[:max_len]:\n",
    "            midi = note_to_int(n)\n",
    "            if midi not in melody_vocab:\n",
    "                melody_vocab[midi] = len(melody_vocab)\n",
    "            melody_seq.append(melody_vocab[midi])\n",
    "\n",
    "        if len(chord_seq) == len(melody_seq) == max_len:\n",
    "            chord_seqs.append(chord_seq)\n",
    "            melody_seqs.append(melody_seq)\n",
    "    except Exception as e:\n",
    "        print(f\"Failed on {file}: {e}\")\n",
    "\n",
    "with open(\"processed.pkl\", \"wb\") as f:\n",
    "    pickle.dump({\n",
    "        \"chord_seqs\": chord_seqs,\n",
    "        \"melody_seqs\": melody_seqs,\n",
    "        \"chord_vocab\": chord_vocab,\n",
    "        \"melody_vocab\": melody_vocab\n",
    "    }, f)\n",
    "\n",
    "print(f\"✅ Saved {len(chord_seqs)} Nintendo MIDI sequences.\")\n"
   ]
  },
  {
   "cell_type": "code",
   "execution_count": 5,
   "id": "8a35af2c",
   "metadata": {
    "execution": {
     "iopub.execute_input": "2025-05-29T21:48:39.608725Z",
     "iopub.status.busy": "2025-05-29T21:48:39.608238Z",
     "iopub.status.idle": "2025-05-29T21:48:39.614318Z",
     "shell.execute_reply": "2025-05-29T21:48:39.613623Z"
    },
    "papermill": {
     "duration": 0.053532,
     "end_time": "2025-05-29T21:48:39.615498",
     "exception": false,
     "start_time": "2025-05-29T21:48:39.561966",
     "status": "completed"
    },
    "tags": []
   },
   "outputs": [],
   "source": [
    "# 🧠 4. Define dataset and LSTM model\n",
    "class ChordMelodyDataset(Dataset):\n",
    "    def __init__(self, X, Y, seq_len):\n",
    "        self.X = X\n",
    "        self.Y = Y\n",
    "        self.seq_len = seq_len\n",
    "\n",
    "    def __len__(self):\n",
    "        return len(self.X)\n",
    "\n",
    "    def __getitem__(self, idx):\n",
    "        return (\n",
    "            torch.tensor(self.X[idx][:self.seq_len]),\n",
    "            torch.tensor(self.Y[idx][:self.seq_len])\n",
    "        )\n",
    "\n",
    "class ChordToMelodyLSTM(nn.Module):\n",
    "    def __init__(self, chord_vocab, melody_vocab, hidden_dim=128):\n",
    "        super().__init__()\n",
    "        self.chord_embed = nn.Embedding(chord_vocab, hidden_dim)\n",
    "        self.lstm = nn.LSTM(hidden_dim, hidden_dim, num_layers=2, batch_first=True, dropout=0.3)\n",
    "        self.out = nn.Linear(hidden_dim, melody_vocab)\n",
    "\n",
    "    def forward(self, chords):\n",
    "        x = self.chord_embed(chords)\n",
    "        h, _ = self.lstm(x)\n",
    "        return self.out(h)"
   ]
  },
  {
   "cell_type": "code",
   "execution_count": 6,
   "id": "4a88c20a",
   "metadata": {
    "execution": {
     "iopub.execute_input": "2025-05-29T21:48:39.706131Z",
     "iopub.status.busy": "2025-05-29T21:48:39.705924Z",
     "iopub.status.idle": "2025-05-29T21:50:14.413781Z",
     "shell.execute_reply": "2025-05-29T21:50:14.412662Z"
    },
    "papermill": {
     "duration": 94.754423,
     "end_time": "2025-05-29T21:50:14.415265",
     "exception": false,
     "start_time": "2025-05-29T21:48:39.660842",
     "status": "completed"
    },
    "tags": []
   },
   "outputs": [
    {
     "name": "stdout",
     "output_type": "stream",
     "text": [
      "432\n",
      "Epoch 0: Loss = 60.3307\n",
      "Epoch 1: Loss = 56.4165\n",
      "Epoch 2: Loss = 54.7521\n",
      "Epoch 3: Loss = 53.6753\n",
      "Epoch 4: Loss = 53.0170\n",
      "Epoch 5: Loss = 52.5841\n",
      "Epoch 6: Loss = 52.1647\n",
      "Epoch 7: Loss = 51.8754\n",
      "Epoch 8: Loss = 51.5625\n",
      "Epoch 9: Loss = 51.4020\n",
      "Epoch 10: Loss = 51.2121\n",
      "Epoch 11: Loss = 50.9245\n",
      "Epoch 12: Loss = 50.5844\n",
      "Epoch 13: Loss = 50.1761\n",
      "Epoch 14: Loss = 49.9185\n",
      "Epoch 15: Loss = 49.6626\n",
      "Epoch 16: Loss = 49.3889\n",
      "Epoch 17: Loss = 49.1178\n",
      "Epoch 18: Loss = 48.7575\n",
      "Epoch 19: Loss = 48.5429\n",
      "Epoch 20: Loss = 48.1544\n",
      "Epoch 21: Loss = 47.8535\n",
      "Epoch 22: Loss = 47.4944\n",
      "Epoch 23: Loss = 47.2632\n",
      "Epoch 24: Loss = 47.0265\n",
      "Epoch 25: Loss = 46.7004\n",
      "Epoch 26: Loss = 46.3697\n",
      "Epoch 27: Loss = 46.0166\n",
      "Epoch 28: Loss = 45.8151\n",
      "Epoch 29: Loss = 45.5258\n",
      "Epoch 30: Loss = 45.2705\n",
      "Epoch 31: Loss = 44.9210\n",
      "Epoch 32: Loss = 44.4853\n",
      "Epoch 33: Loss = 44.2779\n",
      "Epoch 34: Loss = 44.1402\n",
      "Epoch 35: Loss = 43.9122\n",
      "Epoch 36: Loss = 43.9116\n",
      "Epoch 37: Loss = 43.3503\n",
      "Epoch 38: Loss = 43.0099\n",
      "Epoch 39: Loss = 42.6376\n",
      "Epoch 40: Loss = 42.5184\n",
      "Epoch 41: Loss = 42.3961\n",
      "Epoch 42: Loss = 41.8449\n",
      "Epoch 43: Loss = 41.8392\n",
      "Epoch 44: Loss = 41.5463\n",
      "Epoch 45: Loss = 41.5129\n",
      "Epoch 46: Loss = 41.2411\n",
      "Epoch 47: Loss = 41.0061\n",
      "Epoch 48: Loss = 40.6721\n",
      "Epoch 49: Loss = 40.5660\n",
      "Epoch 50: Loss = 40.3879\n",
      "Epoch 51: Loss = 40.4755\n",
      "Epoch 52: Loss = 40.2427\n",
      "Epoch 53: Loss = 39.8720\n",
      "Epoch 54: Loss = 39.6598\n",
      "Epoch 55: Loss = 39.2830\n",
      "Epoch 56: Loss = 39.1807\n",
      "Epoch 57: Loss = 39.0537\n",
      "Epoch 58: Loss = 38.7031\n",
      "Epoch 59: Loss = 38.6106\n",
      "Epoch 60: Loss = 38.5822\n",
      "Epoch 61: Loss = 38.2745\n",
      "Epoch 62: Loss = 38.2768\n",
      "Epoch 63: Loss = 37.9874\n",
      "Epoch 64: Loss = 37.8115\n",
      "Epoch 65: Loss = 37.4838\n",
      "Epoch 66: Loss = 37.3758\n",
      "Epoch 67: Loss = 37.3212\n",
      "Epoch 68: Loss = 37.2147\n",
      "Epoch 69: Loss = 37.1094\n",
      "Epoch 70: Loss = 36.8167\n",
      "Epoch 71: Loss = 36.6876\n",
      "Epoch 72: Loss = 36.9007\n",
      "Epoch 73: Loss = 36.5409\n",
      "Epoch 74: Loss = 36.5038\n",
      "Epoch 75: Loss = 36.4419\n",
      "Epoch 76: Loss = 36.2819\n",
      "Epoch 77: Loss = 36.1152\n",
      "Epoch 78: Loss = 35.8692\n",
      "Epoch 79: Loss = 35.5876\n",
      "Epoch 80: Loss = 35.6035\n",
      "Epoch 81: Loss = 35.4267\n",
      "Epoch 82: Loss = 35.3557\n",
      "Epoch 83: Loss = 35.2489\n",
      "Epoch 84: Loss = 35.1127\n",
      "Epoch 85: Loss = 35.1401\n",
      "Epoch 86: Loss = 35.0228\n",
      "Epoch 87: Loss = 34.9335\n",
      "Epoch 88: Loss = 34.7768\n",
      "Epoch 89: Loss = 34.6738\n",
      "Epoch 90: Loss = 34.5044\n",
      "Epoch 91: Loss = 34.5115\n",
      "Epoch 92: Loss = 34.2991\n",
      "Epoch 93: Loss = 34.3024\n",
      "Epoch 94: Loss = 34.2679\n",
      "Epoch 95: Loss = 34.1073\n",
      "Epoch 96: Loss = 33.9906\n",
      "Epoch 97: Loss = 33.8760\n",
      "Epoch 98: Loss = 33.8414\n",
      "Epoch 99: Loss = 33.5617\n",
      "Epoch 100: Loss = 33.6232\n",
      "Epoch 101: Loss = 33.4922\n",
      "Epoch 102: Loss = 33.4771\n",
      "Epoch 103: Loss = 33.4284\n",
      "Epoch 104: Loss = 33.2544\n",
      "Epoch 105: Loss = 33.1525\n",
      "Epoch 106: Loss = 33.0709\n",
      "Epoch 107: Loss = 32.9406\n",
      "Epoch 108: Loss = 32.9196\n",
      "Epoch 109: Loss = 32.7241\n",
      "Epoch 110: Loss = 32.7919\n",
      "Epoch 111: Loss = 32.6906\n",
      "Epoch 112: Loss = 32.5652\n",
      "Epoch 113: Loss = 32.6098\n",
      "Epoch 114: Loss = 32.3136\n",
      "Epoch 115: Loss = 32.2059\n",
      "Epoch 116: Loss = 32.0143\n",
      "Epoch 117: Loss = 32.9169\n",
      "Epoch 118: Loss = 32.7119\n",
      "Epoch 119: Loss = 32.5950\n",
      "Epoch 120: Loss = 32.4247\n",
      "Epoch 121: Loss = 32.1745\n",
      "Epoch 122: Loss = 31.9440\n",
      "Epoch 123: Loss = 31.6191\n",
      "Epoch 124: Loss = 31.6718\n",
      "Epoch 125: Loss = 31.5571\n",
      "Epoch 126: Loss = 31.5115\n",
      "Epoch 127: Loss = 31.4465\n",
      "Epoch 128: Loss = 31.1259\n",
      "Epoch 129: Loss = 31.1203\n",
      "Epoch 130: Loss = 31.2568\n",
      "Epoch 131: Loss = 31.0703\n",
      "Epoch 132: Loss = 30.9907\n",
      "Epoch 133: Loss = 30.9412\n",
      "Epoch 134: Loss = 30.9318\n",
      "Epoch 135: Loss = 31.0151\n",
      "Epoch 136: Loss = 30.6931\n",
      "Epoch 137: Loss = 30.7454\n",
      "Epoch 138: Loss = 30.7213\n",
      "Epoch 139: Loss = 30.5216\n",
      "Epoch 140: Loss = 30.4266\n",
      "Epoch 141: Loss = 30.7004\n",
      "Epoch 142: Loss = 31.0481\n",
      "Epoch 143: Loss = 30.9957\n",
      "Epoch 144: Loss = 30.6815\n",
      "Epoch 145: Loss = 30.4617\n",
      "Epoch 146: Loss = 30.4835\n",
      "Epoch 147: Loss = 30.3454\n",
      "Epoch 148: Loss = 30.2847\n",
      "Epoch 149: Loss = 30.0695\n",
      "Epoch 150: Loss = 30.0341\n",
      "Epoch 151: Loss = 29.8171\n",
      "Epoch 152: Loss = 29.7283\n",
      "Epoch 153: Loss = 29.6938\n",
      "Epoch 154: Loss = 29.5628\n",
      "Epoch 155: Loss = 29.4893\n",
      "Epoch 156: Loss = 29.4942\n",
      "Epoch 157: Loss = 29.3756\n",
      "Epoch 158: Loss = 29.1989\n",
      "Epoch 159: Loss = 29.1259\n",
      "Epoch 160: Loss = 29.2188\n",
      "Epoch 161: Loss = 29.0103\n",
      "Epoch 162: Loss = 29.0467\n",
      "Epoch 163: Loss = 28.9731\n",
      "Epoch 164: Loss = 29.1186\n",
      "Epoch 165: Loss = 28.8532\n",
      "Epoch 166: Loss = 28.8201\n",
      "Epoch 167: Loss = 28.8729\n",
      "Epoch 168: Loss = 28.9339\n",
      "Epoch 169: Loss = 28.7191\n",
      "Epoch 170: Loss = 28.6981\n",
      "Epoch 171: Loss = 28.5204\n",
      "Epoch 172: Loss = 28.5645\n",
      "Epoch 173: Loss = 28.3324\n",
      "Epoch 174: Loss = 28.2905\n",
      "Epoch 175: Loss = 28.4166\n",
      "Epoch 176: Loss = 28.2240\n",
      "Epoch 177: Loss = 28.3086\n",
      "Epoch 178: Loss = 28.2605\n",
      "Epoch 179: Loss = 28.4770\n",
      "Epoch 180: Loss = 28.4382\n",
      "Epoch 181: Loss = 28.4511\n",
      "Epoch 182: Loss = 28.2624\n",
      "Epoch 183: Loss = 28.1234\n",
      "Epoch 184: Loss = 28.0520\n",
      "Epoch 185: Loss = 27.9158\n",
      "Epoch 186: Loss = 27.9827\n",
      "Epoch 187: Loss = 27.8666\n",
      "Epoch 188: Loss = 27.6652\n",
      "Epoch 189: Loss = 27.6901\n",
      "Epoch 190: Loss = 27.6656\n",
      "Epoch 191: Loss = 27.5337\n",
      "Epoch 192: Loss = 27.8147\n",
      "Epoch 193: Loss = 27.5938\n",
      "Epoch 194: Loss = 27.7103\n",
      "Epoch 195: Loss = 27.6158\n",
      "Epoch 196: Loss = 27.4475\n",
      "Epoch 197: Loss = 27.3737\n",
      "Epoch 198: Loss = 27.2857\n",
      "Epoch 199: Loss = 27.3105\n",
      "✅ Model saved!\n"
     ]
    }
   ],
   "source": [
    "# 🚀 5. Train model\n",
    "with open(\"processed.pkl\", \"rb\") as f:\n",
    "    data = pickle.load(f)\n",
    "\n",
    "chord_seqs = data[\"chord_seqs\"]\n",
    "melody_seqs = data[\"melody_seqs\"]\n",
    "chord_vocab_size = len(data[\"chord_vocab\"])\n",
    "melody_vocab_size = len(data[\"melody_vocab\"])\n",
    "\n",
    "seq_len = 64  # Match new max_len\n",
    "# Filter out sequences that don't match the required seq_len\n",
    "filtered_pairs = [\n",
    "    (c, m) for c, m in zip(chord_seqs, melody_seqs)\n",
    "    if len(c) == seq_len and len(m) == seq_len\n",
    "]\n",
    "print(len(filtered_pairs))\n",
    "chord_seqs, melody_seqs = zip(*filtered_pairs) if filtered_pairs else ([], [])\n",
    "\n",
    "dataset = ChordMelodyDataset(chord_seqs, melody_seqs, seq_len)\n",
    "loader = DataLoader(dataset, batch_size=32, shuffle=True)\n",
    "\n",
    "model = ChordToMelodyLSTM(chord_vocab_size, melody_vocab_size)\n",
    "criterion = nn.CrossEntropyLoss()\n",
    "optimizer = optim.Adam(model.parameters(), lr=1e-3)\n",
    "\n",
    "for epoch in range(200):\n",
    "    total_loss = 0\n",
    "    for chords, melody in loader:\n",
    "        logits = model(chords)\n",
    "        loss = criterion(logits.view(-1, melody_vocab_size), melody.view(-1))\n",
    "        optimizer.zero_grad()\n",
    "        loss.backward()\n",
    "        optimizer.step()\n",
    "        total_loss += loss.item()\n",
    "    print(f\"Epoch {epoch}: Loss = {total_loss:.4f}\")\n",
    "\n",
    "torch.save(model.state_dict(), \"lstm_model.pt\")\n",
    "print(\"✅ Model saved!\")"
   ]
  },
  {
   "cell_type": "code",
   "execution_count": 7,
   "id": "dc3a419e",
   "metadata": {
    "execution": {
     "iopub.execute_input": "2025-05-29T21:50:14.546270Z",
     "iopub.status.busy": "2025-05-29T21:50:14.545652Z",
     "iopub.status.idle": "2025-05-29T21:50:14.551048Z",
     "shell.execute_reply": "2025-05-29T21:50:14.550242Z"
    },
    "papermill": {
     "duration": 0.071493,
     "end_time": "2025-05-29T21:50:14.552152",
     "exception": false,
     "start_time": "2025-05-29T21:50:14.480659",
     "status": "completed"
    },
    "tags": []
   },
   "outputs": [],
   "source": [
    "# 🎵 6. Generate a MIDI file from a melody\n",
    "\n",
    "def generate_midi(melody_ids, melody_vocab, filename=\"generated.mid\"):\n",
    "    inv_vocab = {v: k for k, v in melody_vocab.items()}\n",
    "    pm = pretty_midi.PrettyMIDI()\n",
    "    inst = pretty_midi.Instrument(program=0)\n",
    "    for i, idx in enumerate(melody_ids):\n",
    "        pitch = inv_vocab.get(idx, 60)\n",
    "        note = pretty_midi.Note(\n",
    "            velocity=100, pitch=pitch, start=i*0.5, end=(i+1)*0.5\n",
    "        )\n",
    "        inst.notes.append(note)\n",
    "    pm.instruments.append(inst)\n",
    "    pm.write(filename)\n"
   ]
  },
  {
   "cell_type": "code",
   "execution_count": 8,
   "id": "5a3c74a4",
   "metadata": {
    "execution": {
     "iopub.execute_input": "2025-05-29T21:50:14.662340Z",
     "iopub.status.busy": "2025-05-29T21:50:14.661923Z",
     "iopub.status.idle": "2025-05-29T21:50:14.706756Z",
     "shell.execute_reply": "2025-05-29T21:50:14.706198Z"
    },
    "papermill": {
     "duration": 0.100095,
     "end_time": "2025-05-29T21:50:14.707951",
     "exception": false,
     "start_time": "2025-05-29T21:50:14.607856",
     "status": "completed"
    },
    "tags": []
   },
   "outputs": [],
   "source": [
    "# 🎼 7. Generate new melody from custom chord input\n",
    "\n",
    "def sample_logits(logits, temperature=1.0):\n",
    "    probs = torch.softmax(logits / temperature, dim=-1)\n",
    "    return torch.multinomial(probs, num_samples=1)\n",
    "\n",
    "def generate_from_model(model, chord_sequence, melody_vocab, device=\"cpu\", temperature=1.0):\n",
    "    model.eval()\n",
    "    with torch.no_grad():\n",
    "        chords = torch.tensor(chord_sequence).unsqueeze(0).to(device)\n",
    "        logits = model(chords).squeeze(0)\n",
    "        sampled = [sample_logits(logits[i], temperature).item() for i in range(logits.size(0))]\n",
    "        return sampled\n",
    "\n",
    "# ✅ Load model for inference\n",
    "model.load_state_dict(torch.load(\"lstm_model.pt\"))\n",
    "model.eval()\n",
    "\n",
    "# 🆕 Example: generate a longer melody from a longer chord progression\n",
    "nintendo_intro = [data[\"chord_vocab\"].get(label) for label in [\n",
    "    \"C_major\", \"A_minor\", \"F_major\", \"G_major\",\n",
    "    \"E_minor\", \"D_minor\", \"C_major\", \"A_minor\",\n",
    "    \"F_major\", \"G_major\", \"C_major\", \"A_minor\",\n",
    "    \"F_major\", \"G_major\", \"E_minor\", \"D_minor\",\n",
    "]]\n",
    "nintendo_intro = [c if c is not None else 0 for c in nintendo_intro] + [0] * (64 - 16)\n",
    "\n",
    "generated_ids = generate_from_model(model, nintendo_intro, data[\"melody_vocab\"], temperature=0.8)\n",
    "generate_midi(generated_ids, data[\"melody_vocab\"], \"generated_nintendo_long_5.mid\")\n"
   ]
  },
  {
   "cell_type": "code",
   "execution_count": null,
   "id": "f95a9a21",
   "metadata": {
    "papermill": {
     "duration": 0.053143,
     "end_time": "2025-05-29T21:50:14.816461",
     "exception": false,
     "start_time": "2025-05-29T21:50:14.763318",
     "status": "completed"
    },
    "tags": []
   },
   "outputs": [],
   "source": []
  },
  {
   "cell_type": "markdown",
   "id": "119f2eef",
   "metadata": {
    "papermill": {
     "duration": 0.051921,
     "end_time": "2025-05-29T21:50:14.920543",
     "exception": false,
     "start_time": "2025-05-29T21:50:14.868622",
     "status": "completed"
    },
    "tags": []
   },
   "source": [
    "Everything"
   ]
  },
  {
   "cell_type": "code",
   "execution_count": null,
   "id": "2197bd58",
   "metadata": {
    "execution": {
     "iopub.execute_input": "2025-05-29T20:48:59.993845Z",
     "iopub.status.busy": "2025-05-29T20:48:59.993518Z",
     "iopub.status.idle": "2025-05-29T20:52:32.147619Z",
     "shell.execute_reply": "2025-05-29T20:52:32.146779Z",
     "shell.execute_reply.started": "2025-05-29T20:48:59.993814Z"
    },
    "papermill": {
     "duration": 0.053593,
     "end_time": "2025-05-29T21:50:15.026538",
     "exception": false,
     "start_time": "2025-05-29T21:50:14.972945",
     "status": "completed"
    },
    "tags": []
   },
   "outputs": [],
   "source": [
    "\n",
    "\n",
    "\n",
    "\n"
   ]
  },
  {
   "cell_type": "code",
   "execution_count": null,
   "id": "9f5539a7",
   "metadata": {
    "papermill": {
     "duration": 0.053804,
     "end_time": "2025-05-29T21:50:15.131969",
     "exception": false,
     "start_time": "2025-05-29T21:50:15.078165",
     "status": "completed"
    },
    "tags": []
   },
   "outputs": [],
   "source": []
  }
 ],
 "metadata": {
  "kaggle": {
   "accelerator": "nvidiaTeslaT4",
   "dataSources": [
    {
     "datasetId": 7548337,
     "sourceId": 11999607,
     "sourceType": "datasetVersion"
    }
   ],
   "dockerImageVersionId": 31041,
   "isGpuEnabled": true,
   "isInternetEnabled": true,
   "language": "python",
   "sourceType": "notebook"
  },
  "kernelspec": {
   "display_name": "Python 3",
   "language": "python",
   "name": "python3"
  },
  "language_info": {
   "codemirror_mode": {
    "name": "ipython",
    "version": 3
   },
   "file_extension": ".py",
   "mimetype": "text/x-python",
   "name": "python",
   "nbconvert_exporter": "python",
   "pygments_lexer": "ipython3",
   "version": "3.11.11"
  },
  "papermill": {
   "default_parameters": {},
   "duration": 782.688597,
   "end_time": "2025-05-29T21:50:17.544632",
   "environment_variables": {},
   "exception": null,
   "input_path": "__notebook__.ipynb",
   "output_path": "__notebook__.ipynb",
   "parameters": {},
   "start_time": "2025-05-29T21:37:14.856035",
   "version": "2.6.0"
  }
 },
 "nbformat": 4,
 "nbformat_minor": 5
}
